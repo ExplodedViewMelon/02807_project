{
 "cells": [
  {
   "cell_type": "code",
   "execution_count": 1,
   "metadata": {
    "tags": []
   },
   "outputs": [],
   "source": [
    "import itertools\n",
    "import pickle \n",
    "import networkx as nx\n",
    "from dataloader import *\n",
    "from collections import deque, defaultdict\n",
    "from tqdm import tqdm\n",
    "import community as community_louvain\n",
    "import matplotlib.pyplot as plt\n",
    "from fa2 import ForceAtlas2\n",
    "import matplotlib.cm as cm"
   ]
  },
  {
   "cell_type": "code",
   "execution_count": 2,
   "metadata": {
    "tags": []
   },
   "outputs": [
    {
     "name": "stdout",
     "output_type": "stream",
     "text": [
      "Using the Louvain algortihm we identified 697 communities\n"
     ]
    }
   ],
   "source": [
    "with open(\"sub_graph.pkl\", 'rb') as f:\n",
    "    G = pickle.load(f)\n",
    "f.close()\n",
    "G = G.to_undirected()\n",
    "\n",
    "# compute the best partition\n",
    "partition = community_louvain.best_partition(G)\n",
    "\n",
    "# compute modularity\n",
    "mod = community_louvain.modularity(partition, G)\n",
    "\n",
    "number_of_communities = len(set(partition.values()))\n",
    "print('Using the Louvain algortihm we identified', number_of_communities, 'communities')\n"
   ]
  },
  {
   "cell_type": "code",
   "execution_count": 3,
   "metadata": {
    "tags": []
   },
   "outputs": [
    {
     "name": "stderr",
     "output_type": "stream",
     "text": [
      "C:\\Users\\Naja-\\AppData\\Local\\Temp\\ipykernel_19192\\3343902636.py:26: MatplotlibDeprecationWarning: The get_cmap function was deprecated in Matplotlib 3.7 and will be removed two minor releases later. Use ``matplotlib.colormaps[name]`` or ``matplotlib.colormaps.get_cmap(obj)`` instead.\n",
      "  cmap = cm.get_cmap('gnuplot2', max(partition.values())+1)\n"
     ]
    },
    {
     "ename": "AttributeError",
     "evalue": "module 'networkx' has no attribute 'to_scipy_sparse_matrix'",
     "output_type": "error",
     "traceback": [
      "\u001b[1;31m---------------------------------------------------------------------------\u001b[0m",
      "\u001b[1;31mAttributeError\u001b[0m                            Traceback (most recent call last)",
      "Cell \u001b[1;32mIn[3], line 27\u001b[0m\n\u001b[0;32m     25\u001b[0m \u001b[38;5;66;03m# Color the nodes according to community\u001b[39;00m\n\u001b[0;32m     26\u001b[0m cmap \u001b[38;5;241m=\u001b[39m cm\u001b[38;5;241m.\u001b[39mget_cmap(\u001b[38;5;124m'\u001b[39m\u001b[38;5;124mgnuplot2\u001b[39m\u001b[38;5;124m'\u001b[39m, \u001b[38;5;28mmax\u001b[39m(partition\u001b[38;5;241m.\u001b[39mvalues())\u001b[38;5;241m+\u001b[39m\u001b[38;5;241m1\u001b[39m)\n\u001b[1;32m---> 27\u001b[0m positions \u001b[38;5;241m=\u001b[39m \u001b[43mforceatlas2\u001b[49m\u001b[38;5;241;43m.\u001b[39;49m\u001b[43mforceatlas2_networkx_layout\u001b[49m\u001b[43m(\u001b[49m\u001b[43mG\u001b[49m\u001b[43m,\u001b[49m\u001b[43m \u001b[49m\u001b[43mpos\u001b[49m\u001b[38;5;241;43m=\u001b[39;49m\u001b[38;5;28;43;01mNone\u001b[39;49;00m\u001b[43m,\u001b[49m\u001b[43m \u001b[49m\u001b[43miterations\u001b[49m\u001b[38;5;241;43m=\u001b[39;49m\u001b[38;5;241;43m2000\u001b[39;49m\u001b[43m)\u001b[49m\n\u001b[0;32m     28\u001b[0m \u001b[38;5;28mprint\u001b[39m(cmap)\n\u001b[0;32m     30\u001b[0m \u001b[38;5;66;03m# Plotting the nodes and edges\u001b[39;00m\n",
      "File \u001b[1;32m~\\anaconda3\\lib\\site-packages\\fa2-0.3.5-py3.8-win-amd64.egg\\fa2\\forceatlas2.py:248\u001b[0m, in \u001b[0;36mForceAtlas2.forceatlas2_networkx_layout\u001b[1;34m(self, G, pos, iterations, weight_attr)\u001b[0m\n\u001b[0;32m    243\u001b[0m \u001b[38;5;28;01massert\u001b[39;00m (\n\u001b[0;32m    244\u001b[0m     \u001b[38;5;28misinstance\u001b[39m(G, networkx\u001b[38;5;241m.\u001b[39mclasses\u001b[38;5;241m.\u001b[39mgraph\u001b[38;5;241m.\u001b[39mGraph)\n\u001b[0;32m    245\u001b[0m     \u001b[38;5;129;01mor\u001b[39;00m (cynetworkx \u001b[38;5;129;01mand\u001b[39;00m \u001b[38;5;28misinstance\u001b[39m(G, cynetworkx\u001b[38;5;241m.\u001b[39mclasses\u001b[38;5;241m.\u001b[39mgraph\u001b[38;5;241m.\u001b[39mGraph))\n\u001b[0;32m    246\u001b[0m ), \u001b[38;5;124m\"\u001b[39m\u001b[38;5;124mNot a networkx graph\u001b[39m\u001b[38;5;124m\"\u001b[39m\n\u001b[0;32m    247\u001b[0m \u001b[38;5;28;01massert\u001b[39;00m \u001b[38;5;28misinstance\u001b[39m(pos, \u001b[38;5;28mdict\u001b[39m) \u001b[38;5;129;01mor\u001b[39;00m (pos \u001b[38;5;129;01mis\u001b[39;00m \u001b[38;5;28;01mNone\u001b[39;00m), \u001b[38;5;124m\"\u001b[39m\u001b[38;5;124mpos must be specified as a dictionary, as in networkx\u001b[39m\u001b[38;5;124m\"\u001b[39m\n\u001b[1;32m--> 248\u001b[0m M \u001b[38;5;241m=\u001b[39m \u001b[43mnetworkx\u001b[49m\u001b[38;5;241;43m.\u001b[39;49m\u001b[43mto_scipy_sparse_matrix\u001b[49m(G, dtype\u001b[38;5;241m=\u001b[39m\u001b[38;5;124m'\u001b[39m\u001b[38;5;124mf\u001b[39m\u001b[38;5;124m'\u001b[39m, \u001b[38;5;28mformat\u001b[39m\u001b[38;5;241m=\u001b[39m\u001b[38;5;124m'\u001b[39m\u001b[38;5;124mlil\u001b[39m\u001b[38;5;124m'\u001b[39m, weight\u001b[38;5;241m=\u001b[39mweight_attr)\n\u001b[0;32m    249\u001b[0m \u001b[38;5;28;01mif\u001b[39;00m pos \u001b[38;5;129;01mis\u001b[39;00m \u001b[38;5;28;01mNone\u001b[39;00m:\n\u001b[0;32m    250\u001b[0m     l \u001b[38;5;241m=\u001b[39m \u001b[38;5;28mself\u001b[39m\u001b[38;5;241m.\u001b[39mforceatlas2(M, pos\u001b[38;5;241m=\u001b[39m\u001b[38;5;28;01mNone\u001b[39;00m, iterations\u001b[38;5;241m=\u001b[39miterations)\n",
      "\u001b[1;31mAttributeError\u001b[0m: module 'networkx' has no attribute 'to_scipy_sparse_matrix'"
     ]
    },
    {
     "data": {
      "text/plain": [
       "<Figure size 1120x720 with 0 Axes>"
      ]
     },
     "metadata": {},
     "output_type": "display_data"
    }
   ],
   "source": [
    "plt.figure(figsize=(14, 9), dpi=80)\n",
    "\n",
    "# Tweeking of parameters. \n",
    "forceatlas2 = ForceAtlas2(\n",
    "                        # Behavior alternatives\n",
    "                        outboundAttractionDistribution=True,  # Dissuade hubs\n",
    "                        linLogMode=False,  # NOT IMPLEMENTED\n",
    "                        adjustSizes=False,  # Prevent overlap (NOT IMPLEMENTED)\n",
    "                        edgeWeightInfluence=1.0,\n",
    "\n",
    "                        # Performance\n",
    "                        jitterTolerance=1.0,  # Tolerance\n",
    "                        barnesHutOptimize=True,\n",
    "                        barnesHutTheta=1.2,\n",
    "                        multiThreaded=False,  # NOT IMPLEMENTED\n",
    "\n",
    "                        # Tuning\n",
    "                        scalingRatio=2.,\n",
    "                        strongGravityMode=False,\n",
    "                        gravity=1.0,\n",
    "\n",
    "                        # Log\n",
    "                        verbose=True)\n",
    "\n",
    "# Color the nodes according to community\n",
    "cmap = cm.get_cmap('gnuplot2', max(partition.values())+1)\n",
    "positions = forceatlas2.forceatlas2_networkx_layout(G, pos=None, iterations=2000)\n",
    "print(cmap)\n",
    "\n",
    "# Plotting the nodes and edges\n",
    "nx.draw_networkx_nodes(undirected, positions, partition.keys(), node_size=10,                  \n",
    "                       cmap = cmap, node_color=list(partition.values()))\n",
    "nx.draw_networkx_edges(undirected, positions, alpha=0.03)\n",
    "plt.title('British politicians communities plotted using forceAtlas')\n",
    "plt.show()"
   ]
  },
  {
   "cell_type": "code",
   "execution_count": null,
   "metadata": {},
   "outputs": [],
   "source": []
  }
 ],
 "metadata": {
  "kernelspec": {
   "display_name": "Python 3 (ipykernel)",
   "language": "python",
   "name": "python3"
  },
  "language_info": {
   "codemirror_mode": {
    "name": "ipython",
    "version": 3
   },
   "file_extension": ".py",
   "mimetype": "text/x-python",
   "name": "python",
   "nbconvert_exporter": "python",
   "pygments_lexer": "ipython3",
   "version": "3.8.18"
  }
 },
 "nbformat": 4,
 "nbformat_minor": 4
}
