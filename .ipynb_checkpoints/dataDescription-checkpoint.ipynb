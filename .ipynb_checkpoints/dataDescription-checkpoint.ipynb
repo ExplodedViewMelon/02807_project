{
 "cells": [
  {
   "cell_type": "markdown",
   "metadata": {},
   "source": [
    "# Data cleaning and description"
   ]
  },
  {
   "cell_type": "code",
   "execution_count": 1,
   "metadata": {},
   "outputs": [],
   "source": [
    "%%capture\n",
    "import numpy as np \n",
    "import pandas as pd \n",
    "import matplotlib.pyplot as plt\n",
    "import pickle \n",
    "import networkx as nx\n",
    "from dataloader import *"
   ]
  },
  {
   "cell_type": "markdown",
   "metadata": {},
   "source": [
    "Import data as a panda dataframe"
   ]
  },
  {
   "cell_type": "code",
   "execution_count": 2,
   "metadata": {},
   "outputs": [
    {
     "name": "stdout",
     "output_type": "stream",
     "text": [
      "loading dataframe from cache c:\\Users\\Naja-\\Documents\\GitHub\\02807_project/DATA/dblp-ref\n",
      "loading c:\\Users\\Naja-\\Documents\\GitHub\\02807_project/DATA/dblp-ref/dblp-ref-3.json\n"
     ]
    }
   ],
   "source": [
    "dataset = CitationDataset()\n",
    "df = dataset.load_dataframe(subset=True)"
   ]
  },
  {
   "cell_type": "code",
   "execution_count": 3,
   "metadata": {},
   "outputs": [
    {
     "name": "stdout",
     "output_type": "stream",
     "text": [
      "Number of papers: 79007\n"
     ]
    },
    {
     "data": {
      "text/plain": [
       "<Axes: >"
      ]
     },
     "execution_count": 3,
     "metadata": {},
     "output_type": "execute_result"
    },
    {
     "data": {
      "image/png": "[encoded data removed]",
      "text/plain": [
       "<Figure size 640x480 with 1 Axes>"
      ]
     },
     "metadata": {},
     "output_type": "display_data"
    }
   ],
   "source": [
    "print('Number of papers: {}'.format(len(df)))\n",
    "df['n_citation'].hist(bins=100, range=(0, 99))"
   ]
  },
  {
   "cell_type": "markdown",
   "metadata": {},
   "source": [
    "We see that the most commen number of citations are 50? (weirdly enough)"
   ]
  },
  {
   "cell_type": "code",
   "execution_count": 4,
   "metadata": {},
   "outputs": [
    {
     "data": {
      "text/plain": [
       "count    79007.000000\n",
       "mean         7.607566\n",
       "std         51.072851\n",
       "min          0.000000\n",
       "25%          0.000000\n",
       "50%          0.000000\n",
       "75%          0.000000\n",
       "max       7091.000000\n",
       "Name: n_citation, dtype: float64"
      ]
     },
     "execution_count": 4,
     "metadata": {},
     "output_type": "execute_result"
    }
   ],
   "source": [
    "df['n_citation'].describe()\n"
   ]
  },
  {
   "cell_type": "code",
   "execution_count": 5,
   "metadata": {},
   "outputs": [
    {
     "data": {
      "text/html": [
       "<div>\n",
       "<style scoped>\n",
       "    .dataframe tbody tr th:only-of-type {\n",
       "        vertical-align: middle;\n",
       "    }\n",
       "\n",
       "    .dataframe tbody tr th {\n",
       "        vertical-align: top;\n",
       "    }\n",
       "\n",
       "    .dataframe thead th {\n",
       "        text-align: right;\n",
       "    }\n",
       "</style>\n",
       "<table border=\"1\" class=\"dataframe\">\n",
       "  <thead>\n",
       "    <tr style=\"text-align: right;\">\n",
       "      <th></th>\n",
       "      <th>abstract</th>\n",
       "      <th>authors</th>\n",
       "      <th>n_citation</th>\n",
       "      <th>references</th>\n",
       "      <th>title</th>\n",
       "      <th>venue</th>\n",
       "      <th>year</th>\n",
       "      <th>id</th>\n",
       "    </tr>\n",
       "  </thead>\n",
       "  <tbody>\n",
       "    <tr>\n",
       "      <th>0</th>\n",
       "      <td>AdaBoost algorithm based on Haar-like features...</td>\n",
       "      <td>[Zheng Xu, Runbin Shi, Zhihao Sun, Yaqi Li, Yu...</td>\n",
       "      <td>0</td>\n",
       "      <td>[0a11984c-ab6e-4b75-9291-e1b700c98d52, 1f4152a...</td>\n",
       "      <td>A Heterogeneous System for Real-Time Detection...</td>\n",
       "      <td>high performance computing and communications</td>\n",
       "      <td>2016</td>\n",
       "      <td>001eef4f-1d00-4ae6-8b4f-7e66344bbc6e</td>\n",
       "    </tr>\n",
       "    <tr>\n",
       "      <th>1</th>\n",
       "      <td>In this paper, a kind of novel jigsaw EBG stru...</td>\n",
       "      <td>[Yufei Liang, Yan Zhang, Tao Dong, Shan-wei Lu]</td>\n",
       "      <td>0</td>\n",
       "      <td>[]</td>\n",
       "      <td>A novel conformal jigsaw EBG structure design</td>\n",
       "      <td>international conference on conceptual structures</td>\n",
       "      <td>2016</td>\n",
       "      <td>002e0b7e-d62f-4140-b015-1fe29a9acbaa</td>\n",
       "    </tr>\n",
       "    <tr>\n",
       "      <th>2</th>\n",
       "      <td>This paper studies the problem of using an aut...</td>\n",
       "      <td>[Xiaodong Ai, Keyou You, Shiji Song]</td>\n",
       "      <td>0</td>\n",
       "      <td>[1862a08a-08c6-4ab1-a214-8932bbd0d2d9, 7bcea2f...</td>\n",
       "      <td>A source-seeking strategy for an autonomous un...</td>\n",
       "      <td>international conference on control, automatio...</td>\n",
       "      <td>2016</td>\n",
       "      <td>00352759-f0a7-4678-82ae-fed68c700da6</td>\n",
       "    </tr>\n",
       "    <tr>\n",
       "      <th>3</th>\n",
       "      <td></td>\n",
       "      <td>[Francine Berman, Vinton G. Cerf]</td>\n",
       "      <td>0</td>\n",
       "      <td>[]</td>\n",
       "      <td>Social and ethical behavior in the internet of...</td>\n",
       "      <td>Communications of The ACM</td>\n",
       "      <td>2017</td>\n",
       "      <td>00f77fa9-ae49-4935-9166-2f5f9cdb3d6b</td>\n",
       "    </tr>\n",
       "    <tr>\n",
       "      <th>4</th>\n",
       "      <td></td>\n",
       "      <td>[Leon A. Sakkal, Kyle Z. Rajkowski, Roger S. A...</td>\n",
       "      <td>50</td>\n",
       "      <td>[4f4f200c-0764-4fef-9718-b8bccf303dba, aa699fb...</td>\n",
       "      <td>Prediction of consensus binding mode geometrie...</td>\n",
       "      <td>Journal of Computational Chemistry</td>\n",
       "      <td>2017</td>\n",
       "      <td>013ea675-bb58-42f8-a423-f5534546b2b1</td>\n",
       "    </tr>\n",
       "  </tbody>\n",
       "</table>\n",
       "</div>"
      ],
      "text/plain": [
       "                                            abstract  \\\n",
       "0  AdaBoost algorithm based on Haar-like features...   \n",
       "1  In this paper, a kind of novel jigsaw EBG stru...   \n",
       "2  This paper studies the problem of using an aut...   \n",
       "3                                                      \n",
       "4                                                      \n",
       "\n",
       "                                             authors  n_citation  \\\n",
       "0  [Zheng Xu, Runbin Shi, Zhihao Sun, Yaqi Li, Yu...           0   \n",
       "1    [Yufei Liang, Yan Zhang, Tao Dong, Shan-wei Lu]           0   \n",
       "2               [Xiaodong Ai, Keyou You, Shiji Song]           0   \n",
       "3                  [Francine Berman, Vinton G. Cerf]           0   \n",
       "4  [Leon A. Sakkal, Kyle Z. Rajkowski, Roger S. A...          50   \n",
       "\n",
       "                                          references  \\\n",
       "0  [0a11984c-ab6e-4b75-9291-e1b700c98d52, 1f4152a...   \n",
       "1                                                 []   \n",
       "2  [1862a08a-08c6-4ab1-a214-8932bbd0d2d9, 7bcea2f...   \n",
       "3                                                 []   \n",
       "4  [4f4f200c-0764-4fef-9718-b8bccf303dba, aa699fb...   \n",
       "\n",
       "                                               title  \\\n",
       "0  A Heterogeneous System for Real-Time Detection...   \n",
       "1      A novel conformal jigsaw EBG structure design   \n",
       "2  A source-seeking strategy for an autonomous un...   \n",
       "3  Social and ethical behavior in the internet of...   \n",
       "4  Prediction of consensus binding mode geometrie...   \n",
       "\n",
       "                                               venue  year  \\\n",
       "0      high performance computing and communications  2016   \n",
       "1  international conference on conceptual structures  2016   \n",
       "2  international conference on control, automatio...  2016   \n",
       "3                          Communications of The ACM  2017   \n",
       "4                 Journal of Computational Chemistry  2017   \n",
       "\n",
       "                                     id  \n",
       "0  001eef4f-1d00-4ae6-8b4f-7e66344bbc6e  \n",
       "1  002e0b7e-d62f-4140-b015-1fe29a9acbaa  \n",
       "2  00352759-f0a7-4678-82ae-fed68c700da6  \n",
       "3  00f77fa9-ae49-4935-9166-2f5f9cdb3d6b  \n",
       "4  013ea675-bb58-42f8-a423-f5534546b2b1  "
      ]
     },
     "execution_count": 5,
     "metadata": {},
     "output_type": "execute_result"
    }
   ],
   "source": [
    "df.head()"
   ]
  },
  {
   "cell_type": "code",
   "execution_count": 6,
   "metadata": {},
   "outputs": [
    {
     "name": "stdout",
     "output_type": "stream",
     "text": [
      "Number of papers with 0 citations: 69095\n",
      "Max citations: 7091\n",
      "Mean citations: 7.607566418165479\n"
     ]
    }
   ],
   "source": [
    "print('Number of papers with 0 citations: {}'.format(len(df[df['n_citation'] == 0])))\n",
    "print('Max citations: {}'.format(df['n_citation'].max()))\n",
    "print('Mean citations: {}'.format(df['n_citation'].mean()))"
   ]
  },
  {
   "cell_type": "markdown",
   "metadata": {},
   "source": [
    "Now we delete all papers with 0 and 50 citations"
   ]
  },
  {
   "cell_type": "code",
   "execution_count": 7,
   "metadata": {},
   "outputs": [],
   "source": [
    "df = df[(df[['abstract']] != '').all(axis=1)]\n",
    "df = df[(df[['n_citation']] != 0).all(axis=1)]\n",
    "df = df[(df[['n_citation']] != 50).all(axis=1)]\n"
   ]
  },
  {
   "cell_type": "code",
   "execution_count": 8,
   "metadata": {},
   "outputs": [
    {
     "name": "stdout",
     "output_type": "stream",
     "text": [
      "Number of papers: 1000\n",
      "Mean citations: 106.109\n"
     ]
    },
    {
     "data": {
      "text/plain": [
       "count    1000.000000\n",
       "mean      106.109000\n",
       "std       319.298959\n",
       "min         1.000000\n",
       "25%         3.000000\n",
       "50%        43.500000\n",
       "75%       102.250000\n",
       "max      7091.000000\n",
       "Name: n_citation, dtype: float64"
      ]
     },
     "execution_count": 8,
     "metadata": {},
     "output_type": "execute_result"
    }
   ],
   "source": [
    "print('Number of papers: {}'.format(len(df)))\n",
    "print('Mean citations: {}'.format(df['n_citation'].mean()))\n",
    "df['n_citation'].describe()\n"
   ]
  },
  {
   "cell_type": "code",
   "execution_count": 9,
   "metadata": {},
   "outputs": [
    {
     "data": {
      "text/plain": [
       "<Axes: >"
      ]
     },
     "execution_count": 9,
     "metadata": {},
     "output_type": "execute_result"
    },
    {
     "data": {
      "image/png": "[encoded data removed]",
      "text/plain": [
       "<Figure size 640x480 with 1 Axes>"
      ]
     },
     "metadata": {},
     "output_type": "display_data"
    }
   ],
   "source": [
    "df['n_citation'].hist(bins=100, range=(0, 99))"
   ]
  },
  {
   "cell_type": "markdown",
   "metadata": {},
   "source": [
    "The histogram looks like it could follow a power-law, eventhough we see a tendency for slightly more citations after 50 citations, which could be something related to the many 50 citation"
   ]
  },
  {
   "cell_type": "markdown",
   "metadata": {},
   "source": [
    "Load graph"
   ]
  },
  {
   "cell_type": "code",
   "execution_count": 10,
   "metadata": {},
   "outputs": [
    {
     "name": "stderr",
     "output_type": "stream",
     "text": [
      "  0%|          | 0/1000 [00:00<?, ?it/s]"
     ]
    },
    {
     "name": "stderr",
     "output_type": "stream",
     "text": [
      "100%|██████████| 1000/1000 [00:00<00:00, 2671.35it/s]"
     ]
    },
    {
     "name": "stdout",
     "output_type": "stream",
     "text": [
      "Number of nodes:  9350\n",
      "Number of edges:  9149\n"
     ]
    },
    {
     "name": "stderr",
     "output_type": "stream",
     "text": [
      "\n"
     ]
    }
   ],
   "source": [
    "## Run this code once to create the pickle file and then comment it out\n",
    "\n",
    "G = dataset.load_graph(df)\n",
    "print(\"Number of nodes: \", G.number_of_nodes())\n",
    "print(\"Number of edges: \", G.number_of_edges())\n",
    "pickle.dump(G, open( \"sub_graph.pkl\", \"wb\" ) )\n"
   ]
  },
  {
   "cell_type": "code",
   "execution_count": null,
   "metadata": {},
   "outputs": [],
   "source": [
    "## Here you open the pickle file to load the graph\n",
    "with open(\"base_graph.pkl\", 'rb') as f:\n",
    "    G = pickle.load(f)"
   ]
  }
 ],
 "metadata": {
  "kernelspec": {
   "display_name": "Python 3",
   "language": "python",
   "name": "python3"
  },
  "language_info": {
   "codemirror_mode": {
    "name": "ipython",
    "version": 3
   },
   "file_extension": ".py",
   "mimetype": "text/x-python",
   "name": "python",
   "nbconvert_exporter": "python",
   "pygments_lexer": "ipython3",
   "version": "3.10.11"
  }
 },
 "nbformat": 4,
 "nbformat_minor": 2
}
