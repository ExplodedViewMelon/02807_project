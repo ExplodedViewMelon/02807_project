{
 "cells": [
  {
   "cell_type": "markdown",
   "metadata": {},
   "source": [
    "# Data cleaning and description"
   ]
  },
  {
   "cell_type": "code",
   "execution_count": 20,
   "metadata": {},
   "outputs": [],
   "source": [
    "#%%capture\n",
    "import numpy as np \n",
    "import pandas as pd \n",
    "import matplotlib.pyplot as plt\n",
    "import pickle \n",
    "import networkx as nx\n",
    "from tqdm import tqdm\n",
    "import os\n",
    "import requests\n",
    "import zipfile\n",
    "from utils import get_referenced_by"
   ]
  },
  {
   "cell_type": "markdown",
   "metadata": {},
   "source": [
    "Import data as a panda dataframe"
   ]
  },
  {
   "cell_type": "code",
   "execution_count": 21,
   "metadata": {},
   "outputs": [
    {
     "name": "stdout",
     "output_type": "stream",
     "text": [
      "Downloading data from https://lfs.aminer.cn/lab-datasets/citation/dblp.v10.zip\n"
     ]
    },
    {
     "name": "stderr",
     "output_type": "stream",
     "text": [
      "100%|██████████████████████████████████████████████████████████████████████████████████████████████████████████| 1.85G/1.85G [03:58<00:00, 7.74MB/s]\n"
     ]
    },
    {
     "name": "stdout",
     "output_type": "stream",
     "text": [
      "unzipping /zhome/5e/c/137246/02807_project/DATA/dblp.v10.zip\n"
     ]
    }
   ],
   "source": [
    "\n",
    "class CitationDataset:\n",
    "    \"\"\"\n",
    "    Object for downloading, unzipping and loading the citation dataset.\n",
    "    If you already have the downloaded zip file, put it into a folder named DATA.\n",
    "    \"\"\"\n",
    "\n",
    "    def __init__(self, cache_dir: str = \"\") -> None:\n",
    "        if not cache_dir:\n",
    "            self._base_path = os.getcwd()\n",
    "        else:\n",
    "            self._base_path = cache_dir\n",
    "\n",
    "        self._folder_path: str = self._base_path + \"/DATA\"\n",
    "        self._subfolder_path: str = self._folder_path + \"/dblp-ref\"\n",
    "        self._zip_path: str = self._folder_path + \"/dblp.v10.zip\"\n",
    "        self._file_paths: list[str] = [\n",
    "            self._subfolder_path + f\"/dblp-ref-{i}.json\" for i in range(4)\n",
    "        ]\n",
    "        self._file_url = f\"https://lfs.aminer.cn/lab-datasets/citation/dblp.v10.zip\"\n",
    "\n",
    "        if not self._cache_exists():\n",
    "            if not self._zip_exists():\n",
    "                self._download_to_cache()\n",
    "            self._unzip()\n",
    "\n",
    "    def _zip_exists(self) -> bool:\n",
    "        return os.path.isfile(self._zip_path)\n",
    "\n",
    "    def _cache_exists(self) -> bool:\n",
    "        \"\"\"check that all four files exists in the folder\"\"\"\n",
    "        return all((os.path.isfile(file_path) for file_path in self._file_paths))\n",
    "\n",
    "    def _download_to_cache(self) -> None:\n",
    "        print(f\"Downloading data from {self._file_url}\")\n",
    "\n",
    "        if not os.path.exists(self._folder_path):\n",
    "            os.makedirs(self._folder_path)\n",
    "\n",
    "        # download content with context bar\n",
    "        response = requests.get(self._file_url, stream=True)\n",
    "        progress_bar = tqdm(\n",
    "            total=int(response.headers.get(\"content-length\", 0)),\n",
    "            unit=\"B\",\n",
    "            unit_scale=True,\n",
    "        )\n",
    "\n",
    "        with open(self._zip_path, \"wb\") as file:\n",
    "            for data in response.iter_content(chunk_size=4096):\n",
    "                file.write(data)\n",
    "                progress_bar.update(len(data))  # Update the progress bar\n",
    "\n",
    "        progress_bar.close()\n",
    "\n",
    "    def _unzip(self) -> None:\n",
    "        print(\"unzipping\", self._zip_path)\n",
    "        with zipfile.ZipFile(self._zip_path, \"r\") as zip_ref:\n",
    "            zip_ref.extractall(self._folder_path)\n",
    "\n",
    "    def load_dataframe(self, *, subset=False) -> pd.DataFrame:\n",
    "        \"\"\"\n",
    "        Load data from cache as a pandas DataFrame.\n",
    "        Set subset = True to only use the smallest of the four files.\n",
    "        \"\"\"\n",
    "        print(\"loading dataframe from cache\", self._subfolder_path)\n",
    "        \n",
    "\n",
    "        df = pd.DataFrame()\n",
    "        for file in reversed(self._file_paths):\n",
    "            print(\"loading\", file)\n",
    "            df = pd.concat((df, pd.read_json(file, lines=True)))\n",
    "            if subset:  # stop after reading the last, and smallest of the json files\n",
    "                break\n",
    "\n",
    "        df.references = df.references.fillna(\"\")\n",
    "        df.abstract = df.abstract.fillna(\"\")\n",
    "        \n",
    "        df = get_referenced_by(df)\n",
    "\n",
    "        return df\n",
    "\n",
    "    def load_graph(self, df: pd.DataFrame) -> nx.Graph:\n",
    "        \"\"\"\n",
    "        Loads networkx DiGraph from dataframe.\n",
    "        \"\"\"\n",
    "        # Create an empty directed graph\n",
    "        G = nx.DiGraph()\n",
    "        \n",
    "        # Iterate through the DataFrame and add nodes and edges to the graph\n",
    "        for _, row in tqdm(df.iterrows(), total=len(df)):\n",
    "            node_id = row.id\n",
    "            references = row.references\n",
    "\n",
    "            # Add the node to the graph\n",
    "            G.add_node(\n",
    "                node_id,\n",
    "                abstract=row.abstract,\n",
    "                authors=row.authors,\n",
    "                n_citation=row.n_citation,\n",
    "                title=row.title,\n",
    "                venue=row.venue,\n",
    "                year=row.year,\n",
    "            )\n",
    "\n",
    "            # Add edges from the node to its references\n",
    "            for reference in references:\n",
    "                if reference in df['id']:\n",
    "                    G.add_edge(node_id, reference)\n",
    "                else:\n",
    "                    print(f\"Reference {reference} not found in the DataFrame.\")\n",
    "        return G\n",
    "\n",
    "\n",
    "if __name__ == \"__main__\":\n",
    "    dataset = CitationDataset()"
   ]
  },
  {
   "cell_type": "code",
   "execution_count": 22,
   "metadata": {},
   "outputs": [
    {
     "name": "stdout",
     "output_type": "stream",
     "text": [
      "loading dataframe from cache /zhome/5e/c/137246/02807_project/DATA/dblp-ref\n",
      "loading /zhome/5e/c/137246/02807_project/DATA/dblp-ref/dblp-ref-3.json\n",
      "loading /zhome/5e/c/137246/02807_project/DATA/dblp-ref/dblp-ref-2.json\n",
      "loading /zhome/5e/c/137246/02807_project/DATA/dblp-ref/dblp-ref-1.json\n",
      "loading /zhome/5e/c/137246/02807_project/DATA/dblp-ref/dblp-ref-0.json\n"
     ]
    },
    {
     "name": "stderr",
     "output_type": "stream",
     "text": [
      "100%|██████████████████████████████████████████████████████████████████████████████████████████████████| 3079007/3079007 [02:27<00:00, 20872.98it/s]\n"
     ]
    }
   ],
   "source": [
    "df = dataset.load_dataframe()\n"
   ]
  },
  {
   "cell_type": "code",
   "execution_count": 11,
   "metadata": {},
   "outputs": [
    {
     "name": "stdout",
     "output_type": "stream",
     "text": [
      "Number of papers: 3079007\n"
     ]
    },
    {
     "data": {
      "text/plain": [
       "<Axes: >"
      ]
     },
     "execution_count": 11,
     "metadata": {},
     "output_type": "execute_result"
    },
    {
     "data": {
      "image/png": "[encoded data removed]",
      "text/plain": [
       "<Figure size 640x480 with 1 Axes>"
      ]
     },
     "metadata": {},
     "output_type": "display_data"
    }
   ],
   "source": [
    "print('Number of papers: {}'.format(len(df)))\n",
    "df['n_citation'].hist(bins=100, range=(0, 99))"
   ]
  },
  {
   "cell_type": "markdown",
   "metadata": {},
   "source": [
    "We see that the most commen number of citations are 50? (weirdly enough)"
   ]
  },
  {
   "cell_type": "code",
   "execution_count": 12,
   "metadata": {},
   "outputs": [
    {
     "data": {
      "text/plain": [
       "count    3.079007e+06\n",
       "mean     3.522090e+01\n",
       "std      1.577007e+02\n",
       "min      0.000000e+00\n",
       "25%      1.000000e+00\n",
       "50%      1.100000e+01\n",
       "75%      5.000000e+01\n",
       "max      7.336200e+04\n",
       "Name: n_citation, dtype: float64"
      ]
     },
     "execution_count": 12,
     "metadata": {},
     "output_type": "execute_result"
    }
   ],
   "source": [
    "df['n_citation'].describe()\n"
   ]
  },
  {
   "cell_type": "code",
   "execution_count": 13,
   "metadata": {},
   "outputs": [
    {
     "name": "stdout",
     "output_type": "stream",
     "text": [
      "Number of papers with 0 citations: 718250\n",
      "Max citations: 73362\n",
      "Mean citations: 35.220902713114974\n"
     ]
    }
   ],
   "source": [
    "print('Number of papers with 0 citations: {}'.format(len(df[df['n_citation'] == 0])))\n",
    "print('Max citations: {}'.format(df['n_citation'].max()))\n",
    "print('Mean citations: {}'.format(df['n_citation'].mean()))"
   ]
  },
  {
   "cell_type": "markdown",
   "metadata": {},
   "source": [
    "Now we delete all papers with 0 and 50 citations"
   ]
  },
  {
   "cell_type": "code",
   "execution_count": 14,
   "metadata": {},
   "outputs": [],
   "source": [
    "df = df[(df[['abstract']] != '').all(axis=1)]\n",
    "df = df[(df[['n_citation']] != 0).all(axis=1)]\n",
    "df = df[(df[['n_citation']] != 50).all(axis=1)]\n"
   ]
  },
  {
   "cell_type": "code",
   "execution_count": 15,
   "metadata": {},
   "outputs": [
    {
     "data": {
      "text/html": [
       "<div>\n",
       "<style scoped>\n",
       "    .dataframe tbody tr th:only-of-type {\n",
       "        vertical-align: middle;\n",
       "    }\n",
       "\n",
       "    .dataframe tbody tr th {\n",
       "        vertical-align: top;\n",
       "    }\n",
       "\n",
       "    .dataframe thead th {\n",
       "        text-align: right;\n",
       "    }\n",
       "</style>\n",
       "<table border=\"1\" class=\"dataframe\">\n",
       "  <thead>\n",
       "    <tr style=\"text-align: right;\">\n",
       "      <th></th>\n",
       "      <th>abstract</th>\n",
       "      <th>authors</th>\n",
       "      <th>n_citation</th>\n",
       "      <th>references</th>\n",
       "      <th>title</th>\n",
       "      <th>venue</th>\n",
       "      <th>year</th>\n",
       "      <th>id</th>\n",
       "      <th>referenced_by</th>\n",
       "      <th>n_counted_citations</th>\n",
       "      <th>n_references</th>\n",
       "    </tr>\n",
       "  </thead>\n",
       "  <tbody>\n",
       "    <tr>\n",
       "      <th>0</th>\n",
       "      <td>AdaBoost algorithm based on Haar-like features...</td>\n",
       "      <td>[Zheng Xu, Runbin Shi, Zhihao Sun, Yaqi Li, Yu...</td>\n",
       "      <td>0</td>\n",
       "      <td>[0a11984c-ab6e-4b75-9291-e1b700c98d52, 1f4152a...</td>\n",
       "      <td>A Heterogeneous System for Real-Time Detection...</td>\n",
       "      <td>high performance computing and communications</td>\n",
       "      <td>2016</td>\n",
       "      <td>001eef4f-1d00-4ae6-8b4f-7e66344bbc6e</td>\n",
       "      <td>NaN</td>\n",
       "      <td>0</td>\n",
       "      <td>8</td>\n",
       "    </tr>\n",
       "    <tr>\n",
       "      <th>1</th>\n",
       "      <td>In this paper, a kind of novel jigsaw EBG stru...</td>\n",
       "      <td>[Yufei Liang, Yan Zhang, Tao Dong, Shan-wei Lu]</td>\n",
       "      <td>0</td>\n",
       "      <td>[]</td>\n",
       "      <td>A novel conformal jigsaw EBG structure design</td>\n",
       "      <td>international conference on conceptual structures</td>\n",
       "      <td>2016</td>\n",
       "      <td>002e0b7e-d62f-4140-b015-1fe29a9acbaa</td>\n",
       "      <td>NaN</td>\n",
       "      <td>0</td>\n",
       "      <td>0</td>\n",
       "    </tr>\n",
       "    <tr>\n",
       "      <th>2</th>\n",
       "      <td>This paper studies the problem of using an aut...</td>\n",
       "      <td>[Xiaodong Ai, Keyou You, Shiji Song]</td>\n",
       "      <td>0</td>\n",
       "      <td>[1862a08a-08c6-4ab1-a214-8932bbd0d2d9, 7bcea2f...</td>\n",
       "      <td>A source-seeking strategy for an autonomous un...</td>\n",
       "      <td>international conference on control, automatio...</td>\n",
       "      <td>2016</td>\n",
       "      <td>00352759-f0a7-4678-82ae-fed68c700da6</td>\n",
       "      <td>NaN</td>\n",
       "      <td>0</td>\n",
       "      <td>5</td>\n",
       "    </tr>\n",
       "    <tr>\n",
       "      <th>3</th>\n",
       "      <td></td>\n",
       "      <td>[Francine Berman, Vinton G. Cerf]</td>\n",
       "      <td>0</td>\n",
       "      <td>[]</td>\n",
       "      <td>Social and ethical behavior in the internet of...</td>\n",
       "      <td>Communications of The ACM</td>\n",
       "      <td>2017</td>\n",
       "      <td>00f77fa9-ae49-4935-9166-2f5f9cdb3d6b</td>\n",
       "      <td>NaN</td>\n",
       "      <td>0</td>\n",
       "      <td>0</td>\n",
       "    </tr>\n",
       "    <tr>\n",
       "      <th>4</th>\n",
       "      <td></td>\n",
       "      <td>[Leon A. Sakkal, Kyle Z. Rajkowski, Roger S. A...</td>\n",
       "      <td>50</td>\n",
       "      <td>[4f4f200c-0764-4fef-9718-b8bccf303dba, aa699fb...</td>\n",
       "      <td>Prediction of consensus binding mode geometrie...</td>\n",
       "      <td>Journal of Computational Chemistry</td>\n",
       "      <td>2017</td>\n",
       "      <td>013ea675-bb58-42f8-a423-f5534546b2b1</td>\n",
       "      <td>[71039ab8-941f-4c6f-bdb8-77a6519f45a0]</td>\n",
       "      <td>1</td>\n",
       "      <td>2</td>\n",
       "    </tr>\n",
       "  </tbody>\n",
       "</table>\n",
       "</div>"
      ],
      "text/plain": [
       "                                            abstract  \\\n",
       "0  AdaBoost algorithm based on Haar-like features...   \n",
       "1  In this paper, a kind of novel jigsaw EBG stru...   \n",
       "2  This paper studies the problem of using an aut...   \n",
       "3                                                      \n",
       "4                                                      \n",
       "\n",
       "                                             authors  n_citation  \\\n",
       "0  [Zheng Xu, Runbin Shi, Zhihao Sun, Yaqi Li, Yu...           0   \n",
       "1    [Yufei Liang, Yan Zhang, Tao Dong, Shan-wei Lu]           0   \n",
       "2               [Xiaodong Ai, Keyou You, Shiji Song]           0   \n",
       "3                  [Francine Berman, Vinton G. Cerf]           0   \n",
       "4  [Leon A. Sakkal, Kyle Z. Rajkowski, Roger S. A...          50   \n",
       "\n",
       "                                          references  \\\n",
       "0  [0a11984c-ab6e-4b75-9291-e1b700c98d52, 1f4152a...   \n",
       "1                                                 []   \n",
       "2  [1862a08a-08c6-4ab1-a214-8932bbd0d2d9, 7bcea2f...   \n",
       "3                                                 []   \n",
       "4  [4f4f200c-0764-4fef-9718-b8bccf303dba, aa699fb...   \n",
       "\n",
       "                                               title  \\\n",
       "0  A Heterogeneous System for Real-Time Detection...   \n",
       "1      A novel conformal jigsaw EBG structure design   \n",
       "2  A source-seeking strategy for an autonomous un...   \n",
       "3  Social and ethical behavior in the internet of...   \n",
       "4  Prediction of consensus binding mode geometrie...   \n",
       "\n",
       "                                               venue  year  \\\n",
       "0      high performance computing and communications  2016   \n",
       "1  international conference on conceptual structures  2016   \n",
       "2  international conference on control, automatio...  2016   \n",
       "3                          Communications of The ACM  2017   \n",
       "4                 Journal of Computational Chemistry  2017   \n",
       "\n",
       "                                     id  \\\n",
       "0  001eef4f-1d00-4ae6-8b4f-7e66344bbc6e   \n",
       "1  002e0b7e-d62f-4140-b015-1fe29a9acbaa   \n",
       "2  00352759-f0a7-4678-82ae-fed68c700da6   \n",
       "3  00f77fa9-ae49-4935-9166-2f5f9cdb3d6b   \n",
       "4  013ea675-bb58-42f8-a423-f5534546b2b1   \n",
       "\n",
       "                            referenced_by  n_counted_citations  n_references  \n",
       "0                                     NaN                    0             8  \n",
       "1                                     NaN                    0             0  \n",
       "2                                     NaN                    0             5  \n",
       "3                                     NaN                    0             0  \n",
       "4  [71039ab8-941f-4c6f-bdb8-77a6519f45a0]                    1             2  "
      ]
     },
     "execution_count": 23,
     "metadata": {},
     "output_type": "execute_result"
    }
   ],
   "source": [
    "df.head()"
   ]
  },
  {
   "cell_type": "code",
   "execution_count": 46,
   "metadata": {},
   "outputs": [
    {
     "name": "stdout",
     "output_type": "stream",
     "text": [
      "Number of papers: 1297860\n",
      "Mean citations: 46.46594624998074\n"
     ]
    },
    {
     "data": {
      "image/png": "[encoded data removed]",
      "text/plain": [
       "count    1.297860e+06\n",
       "mean     4.646595e+01\n",
       "std      2.320536e+02\n",
       "min      1.000000e+00\n",
       "25%      3.000000e+00\n",
       "50%      1.000000e+01\n",
       "75%      3.800000e+01\n",
       "max      7.336200e+04\n",
       "Name: n_citation, dtype: float64"
      ]
     },
     "execution_count": 71,
     "metadata": {},
     "output_type": "display_data"
    }
   ],
   "source": [
    "print('Number of papers: {}'.format(len(df)))\n",
    "df['n_counted_citations'].hist(bins=100, range= (0,100))\n",
    "plt.show()"
   ]
  },
  {
   "cell_type": "markdown",
   "metadata": {},
   "source": [
    "We see that the most commen number of citations are 50? (weirdly enough)"
   ]
  },
  {
   "cell_type": "code",
   "execution_count": 73,
   "metadata": {},
   "outputs": [
    {
     "data": {
      "text/plain": [
       "count    3.079007e+06\n",
       "mean     8.173737e+00\n",
       "std      4.551554e+01\n",
       "min      0.000000e+00\n",
       "25%      0.000000e+00\n",
       "50%      1.000000e+00\n",
       "75%      6.000000e+00\n",
       "max      1.622900e+04\n",
       "Name: n_counted_citations, dtype: float64"
      ]
     },
     "execution_count": 73,
     "metadata": {},
     "output_type": "execute_result"
    },
    {
     "data": {
      "image/png": "[encoded data removed]",
      "text/plain": [
       "<Figure size 640x480 with 1 Axes>"
      ]
     },
     "metadata": {},
     "output_type": "display_data"
    }
   ],
   "source": [
    "df['n_counted_citations'].describe()\n"
   ]
  },
  {
   "cell_type": "code",
   "execution_count": 48,
   "metadata": {},
   "outputs": [
    {
     "name": "stdout",
     "output_type": "stream",
     "text": [
      "Number of papers with 0 citations: 1093086\n",
      "Max citations: 16229\n",
      "Mean citations: 8.2\n"
     ]
    }
   ],
   "source": [
    "print('Number of papers with 0 citations: {}'.format(len(df[df['n_counted_citations'] == 0])))\n",
    "print('Max citations: {}'.format(df['n_counted_citations'].max()))\n",
    "print('Mean citations: {}'.format(round(df['n_counted_citations'].mean(),1)))"
   ]
  },
  {
   "cell_type": "markdown",
   "metadata": {},
   "source": [
    "Now we delete all papers with 0 and 50 citations"
   ]
  },
  {
   "cell_type": "code",
   "execution_count": 49,
   "metadata": {},
   "outputs": [],
   "source": [
    "df = df[(df[['n_counted_citations']] != 0).all(axis=1)]\n",
    "df = df[(df[['n_references']] != 0).all(axis=1)]\n",
    "df = df[(df[['abstract']] != '').all(axis=1)]"
   ]
  },
  {
   "cell_type": "code",
   "execution_count": 50,
   "metadata": {},
   "outputs": [
    {
     "data": {
      "text/html": [
       "<div>\n",
       "<style scoped>\n",
       "    .dataframe tbody tr th:only-of-type {\n",
       "        vertical-align: middle;\n",
       "    }\n",
       "\n",
       "    .dataframe tbody tr th {\n",
       "        vertical-align: top;\n",
       "    }\n",
       "\n",
       "    .dataframe thead th {\n",
       "        text-align: right;\n",
       "    }\n",
       "</style>\n",
       "<table border=\"1\" class=\"dataframe\">\n",
       "  <thead>\n",
       "    <tr style=\"text-align: right;\">\n",
       "      <th></th>\n",
       "      <th>abstract</th>\n",
       "      <th>authors</th>\n",
       "      <th>n_citation</th>\n",
       "      <th>references</th>\n",
       "      <th>title</th>\n",
       "      <th>venue</th>\n",
       "      <th>year</th>\n",
       "      <th>id</th>\n",
       "      <th>referenced_by</th>\n",
       "      <th>n_counted_citations</th>\n",
       "      <th>n_references</th>\n",
       "    </tr>\n",
       "  </thead>\n",
       "  <tbody>\n",
       "    <tr>\n",
       "      <th>10</th>\n",
       "      <td>For stereoscopic optical see-through head-moun...</td>\n",
       "      <td>[Long Qian, Alexander Winkler, Bernhard Fuerst...</td>\n",
       "      <td>50</td>\n",
       "      <td>[076bca9b-b30c-4c2c-8148-3b9b5d9aa939, 6b5cf40...</td>\n",
       "      <td>Modeling Physical Structure as Additional Cons...</td>\n",
       "      <td>international symposium on mixed and augmented...</td>\n",
       "      <td>2016</td>\n",
       "      <td>01f02fae-97df-4207-a386-a1bc8ec0853b</td>\n",
       "      <td>[2ced1d5a-a5ff-4860-99d2-9832b11b1f40]</td>\n",
       "      <td>1</td>\n",
       "      <td>5</td>\n",
       "    </tr>\n",
       "    <tr>\n",
       "      <th>29</th>\n",
       "      <td>For the multiterminal secret key agreement pro...</td>\n",
       "      <td>[Chung Chan, Manuj Mukherjee, Navin Kashyap, Q...</td>\n",
       "      <td>50</td>\n",
       "      <td>[19eb4d23-c01f-484a-ad86-0f1061622295, 205c230...</td>\n",
       "      <td>Secret Key Agreement under Discussion Rate Con...</td>\n",
       "      <td>arXiv: Information Theory</td>\n",
       "      <td>2017</td>\n",
       "      <td>0600c67e-71a1-4ed2-913f-e9db02370de4</td>\n",
       "      <td>[ca159cfa-0424-4066-bc21-088a548c6cea]</td>\n",
       "      <td>1</td>\n",
       "      <td>13</td>\n",
       "    </tr>\n",
       "    <tr>\n",
       "      <th>48</th>\n",
       "      <td>Semantic image segmentation is a fundamental t...</td>\n",
       "      <td>[Tong Shen, Guosheng Lin, Chunhua Shen, Ian D....</td>\n",
       "      <td>50</td>\n",
       "      <td>[031bbeb0-4dc1-46f9-9984-109c3b3eefae, 153c501...</td>\n",
       "      <td>Learning Multi-level Region Consistency with D...</td>\n",
       "      <td>arXiv: Computer Vision and Pattern Recognition</td>\n",
       "      <td>2017</td>\n",
       "      <td>0a2562d0-f2af-47e1-a783-02aac8607c7b</td>\n",
       "      <td>[604aa9c4-1d9a-4c6c-be04-ee57d0bbe157]</td>\n",
       "      <td>1</td>\n",
       "      <td>17</td>\n",
       "    </tr>\n",
       "    <tr>\n",
       "      <th>83</th>\n",
       "      <td>Nearly fifteen years ago, Google unveiled the ...</td>\n",
       "      <td>[Christopher A. Wilkens, Ruggiero Cavallo, Rad...</td>\n",
       "      <td>50</td>\n",
       "      <td>[03320467-a15f-43df-bcfc-cfe86c167b50, 21da5d1...</td>\n",
       "      <td>GSP: The Cinderella of Mechanism Design</td>\n",
       "      <td>international world wide web conferences</td>\n",
       "      <td>2017</td>\n",
       "      <td>108d3159-2542-4974-95d0-1962972a9fa1</td>\n",
       "      <td>[a8a108cc-8c99-4058-acc0-e43267262c4a]</td>\n",
       "      <td>1</td>\n",
       "      <td>13</td>\n",
       "    </tr>\n",
       "    <tr>\n",
       "      <th>86</th>\n",
       "      <td>Data analytics frameworks shift towards larger...</td>\n",
       "      <td>[Jinwei Liu, Haiying Shen]</td>\n",
       "      <td>50</td>\n",
       "      <td>[004b7183-1fb5-4e08-b29a-87c679316171, 0150e04...</td>\n",
       "      <td>Dependency-Aware and Resource-Efficient Schedu...</td>\n",
       "      <td>ieee international conference on cloud computi...</td>\n",
       "      <td>2016</td>\n",
       "      <td>11997fa1-0571-413a-bacd-4ae3162353dd</td>\n",
       "      <td>[3387407d-780c-4059-823d-5d9c78ddb348, 95cb467...</td>\n",
       "      <td>6</td>\n",
       "      <td>39</td>\n",
       "    </tr>\n",
       "  </tbody>\n",
       "</table>\n",
       "</div>"
      ],
      "text/plain": [
       "                                             abstract  \\\n",
       "10  For stereoscopic optical see-through head-moun...   \n",
       "29  For the multiterminal secret key agreement pro...   \n",
       "48  Semantic image segmentation is a fundamental t...   \n",
       "83  Nearly fifteen years ago, Google unveiled the ...   \n",
       "86  Data analytics frameworks shift towards larger...   \n",
       "\n",
       "                                              authors  n_citation  \\\n",
       "10  [Long Qian, Alexander Winkler, Bernhard Fuerst...          50   \n",
       "29  [Chung Chan, Manuj Mukherjee, Navin Kashyap, Q...          50   \n",
       "48  [Tong Shen, Guosheng Lin, Chunhua Shen, Ian D....          50   \n",
       "83  [Christopher A. Wilkens, Ruggiero Cavallo, Rad...          50   \n",
       "86                         [Jinwei Liu, Haiying Shen]          50   \n",
       "\n",
       "                                           references  \\\n",
       "10  [076bca9b-b30c-4c2c-8148-3b9b5d9aa939, 6b5cf40...   \n",
       "29  [19eb4d23-c01f-484a-ad86-0f1061622295, 205c230...   \n",
       "48  [031bbeb0-4dc1-46f9-9984-109c3b3eefae, 153c501...   \n",
       "83  [03320467-a15f-43df-bcfc-cfe86c167b50, 21da5d1...   \n",
       "86  [004b7183-1fb5-4e08-b29a-87c679316171, 0150e04...   \n",
       "\n",
       "                                                title  \\\n",
       "10  Modeling Physical Structure as Additional Cons...   \n",
       "29  Secret Key Agreement under Discussion Rate Con...   \n",
       "48  Learning Multi-level Region Consistency with D...   \n",
       "83            GSP: The Cinderella of Mechanism Design   \n",
       "86  Dependency-Aware and Resource-Efficient Schedu...   \n",
       "\n",
       "                                                venue  year  \\\n",
       "10  international symposium on mixed and augmented...  2016   \n",
       "29                          arXiv: Information Theory  2017   \n",
       "48     arXiv: Computer Vision and Pattern Recognition  2017   \n",
       "83           international world wide web conferences  2017   \n",
       "86  ieee international conference on cloud computi...  2016   \n",
       "\n",
       "                                      id  \\\n",
       "10  01f02fae-97df-4207-a386-a1bc8ec0853b   \n",
       "29  0600c67e-71a1-4ed2-913f-e9db02370de4   \n",
       "48  0a2562d0-f2af-47e1-a783-02aac8607c7b   \n",
       "83  108d3159-2542-4974-95d0-1962972a9fa1   \n",
       "86  11997fa1-0571-413a-bacd-4ae3162353dd   \n",
       "\n",
       "                                        referenced_by  n_counted_citations  \\\n",
       "10             [2ced1d5a-a5ff-4860-99d2-9832b11b1f40]                    1   \n",
       "29             [ca159cfa-0424-4066-bc21-088a548c6cea]                    1   \n",
       "48             [604aa9c4-1d9a-4c6c-be04-ee57d0bbe157]                    1   \n",
       "83             [a8a108cc-8c99-4058-acc0-e43267262c4a]                    1   \n",
       "86  [3387407d-780c-4059-823d-5d9c78ddb348, 95cb467...                    6   \n",
       "\n",
       "    n_references  \n",
       "10             5  \n",
       "29            13  \n",
       "48            17  \n",
       "83            13  \n",
       "86            39  "
      ]
     },
     "execution_count": 50,
     "metadata": {},
     "output_type": "execute_result"
    }
   ],
   "source": [
    "df.head()"
   ]
  },
  {
   "cell_type": "code",
   "execution_count": 52,
   "metadata": {},
   "outputs": [
    {
     "name": "stdout",
     "output_type": "stream",
     "text": [
      "Number of papers: 1614519\n",
      "Mean citations: 13.532765486191243\n"
     ]
    },
    {
     "data": {
      "text/plain": [
       "count    1.614519e+06\n",
       "mean     1.353277e+01\n",
       "std      5.619322e+01\n",
       "min      1.000000e+00\n",
       "25%      2.000000e+00\n",
       "50%      4.000000e+00\n",
       "75%      1.100000e+01\n",
       "max      1.622900e+04\n",
       "Name: n_counted_citations, dtype: float64"
      ]
     },
     "execution_count": 52,
     "metadata": {},
     "output_type": "execute_result"
    }
   ],
   "source": [
    "print('Number of papers: {}'.format(len(df)))\n",
    "print('Mean citations: {}'.format(df['n_counted_citations'].mean()))\n",
    "df['n_counted_citations'].describe()\n"
   ]
  },
  {
   "cell_type": "code",
   "execution_count": 54,
   "metadata": {},
   "outputs": [
    {
     "name": "stdout",
     "output_type": "stream",
     "text": [
      "Number of papers with 0 citations: 0\n",
      "Max citations: 16229\n",
      "Mean citations: 13.5\n"
     ]
    }
   ],
   "source": [
    "print('Number of papers with 0 citations: {}'.format(len(df[df['n_counted_citations'] == 0])))\n",
    "print('Max citations: {}'.format(df['n_counted_citations'].max()))\n",
    "print('Mean citations: {}'.format(round(df['n_counted_citations'].mean(),1)))"
   ]
  },
  {
   "cell_type": "markdown",
   "metadata": {},
   "source": [
    "Load graph"
   ]
  },
  {
   "cell_type": "code",
   "execution_count": 62,
   "metadata": {},
   "outputs": [],
   "source": [
    "def load_graph(df):\n",
    "    \"\"\"\n",
    "    Loads networkx DiGraph from dataframe.\n",
    "    \"\"\"\n",
    "    # Create an empty directed graph\n",
    "    G = nx.DiGraph()\n",
    "    \n",
    "    # Create a set of all the paper IDs\n",
    "    id_set = set(df['id'])\n",
    "    \n",
    "    # Iterate through the DataFrame and add nodes and edges to the graph\n",
    "    for _, row in tqdm(df.iterrows(), total=len(df)):\n",
    "        node_id = row.id\n",
    "        references = row.references\n",
    "\n",
    "        # Add the node to the graph\n",
    "        G.add_node(\n",
    "            node_id,\n",
    "            abstract=row.abstract,\n",
    "            n_references=row.n_references,\n",
    "            n_citation=row.n_counted_citations,\n",
    "            referenced_by=row.referenced_by,  \n",
    "            title=row.title,\n",
    "        )\n",
    "        \n",
    "        # Add edges from the node to its references\n",
    "        for reference in references:\n",
    "            if reference in id_set:\n",
    "                G.add_edge(node_id, reference)\n",
    "                \n",
    "        for citation in row.referenced_by:\n",
    "            if citation in id_set:\n",
    "                G.add_edge(citation, node_id)\n",
    "\n",
    "    return G"
   ]
  },
  {
   "cell_type": "code",
   "execution_count": 63,
   "metadata": {},
   "outputs": [
    {
     "name": "stderr",
     "output_type": "stream",
     "text": [
      "  0%|                                                                                                                   | 0/1614519 [00:00<?, ?it/s]"
     ]
    },
    {
     "name": "stderr",
     "output_type": "stream",
     "text": [
      "Number of nodes:  1297860\n",
      "Number of edges:  10365410\n"
     ]
    }
   ],
   "source": [
    "G = load_graph(df)\n",
    "print(\"Number of nodes: \", G.number_of_nodes())\n",
    "print(\"Number of edges: \", G.number_of_edges())"
   ]
  },
  {
   "cell_type": "code",
   "execution_count": 65,
   "metadata": {},
   "outputs": [],
   "source": [
    "pickle.dump(G, open( \"base_graph.pkl\", \"wb\" ) )"
   ]
  },
  {
   "cell_type": "code",
   "execution_count": null,
   "metadata": {},
   "outputs": [],
   "source": [
    "## Here you open the pickle file to load the graph\n",
    "with open(\"base_graph.pkl\", 'rb') as f:\n",
    "    G = pickle.load(f)"
   ]
  }
 ],
 "metadata": {
  "kernelspec": {
   "display_name": "Python 3 (ipykernel)",
   "language": "python",
   "name": "python3"
  }
 },
 "nbformat": 4,
 "nbformat_minor": 2
}
