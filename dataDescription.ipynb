{
 "cells": [
  {
   "cell_type": "markdown",
   "metadata": {},
   "source": [
    "# Data cleaning and description"
   ]
  },
  {
   "cell_type": "code",
   "execution_count": 56,
   "metadata": {},
   "outputs": [],
   "source": [
    "#%%capture\n",
    "import numpy as np \n",
    "import pandas as pd \n",
    "import matplotlib.pyplot as plt\n",
    "import pickle \n",
    "import networkx as nx\n",
    "from dataloader import *\n",
    "from tqdm import tqdm"
   ]
  },
  {
   "cell_type": "markdown",
   "metadata": {},
   "source": [
    "Import data as a panda dataframe"
   ]
  },
  {
   "cell_type": "code",
   "execution_count": 65,
   "metadata": {},
   "outputs": [
    {
     "name": "stdout",
     "output_type": "stream",
     "text": [
      "loading dataframe from cache c:\\Users\\Naja-\\Documents\\GitHub\\02807_project/DATA/dblp-ref\n",
      "loading c:\\Users\\Naja-\\Documents\\GitHub\\02807_project/DATA/dblp-ref/dblp-ref-3.json\n",
      "loading c:\\Users\\Naja-\\Documents\\GitHub\\02807_project/DATA/dblp-ref/dblp-ref-2.json\n",
      "loading c:\\Users\\Naja-\\Documents\\GitHub\\02807_project/DATA/dblp-ref/dblp-ref-1.json\n",
      "loading c:\\Users\\Naja-\\Documents\\GitHub\\02807_project/DATA/dblp-ref/dblp-ref-0.json\n"
     ]
    }
   ],
   "source": [
    "dataset = CitationDataset()\n",
    "df = dataset.load_dataframe()\n"
   ]
  },
  {
   "cell_type": "code",
   "execution_count": 66,
   "metadata": {},
   "outputs": [
    {
     "name": "stdout",
     "output_type": "stream",
     "text": [
      "Number of papers: 3079007\n"
     ]
    },
    {
     "data": {
      "text/plain": [
       "<Axes: >"
      ]
     },
     "execution_count": 66,
     "metadata": {},
     "output_type": "execute_result"
    },
    {
     "data": {
      "image/png": "[encoded data removed]",
      "text/plain": [
       "<Figure size 640x480 with 1 Axes>"
      ]
     },
     "metadata": {},
     "output_type": "display_data"
    }
   ],
   "source": [
    "print('Number of papers: {}'.format(len(df)))\n",
    "df['n_citation'].hist(bins=100, range=(0, 99))"
   ]
  },
  {
   "cell_type": "markdown",
   "metadata": {},
   "source": [
    "We see that the most commen number of citations are 50? (weirdly enough)"
   ]
  },
  {
   "cell_type": "code",
   "execution_count": 67,
   "metadata": {},
   "outputs": [
    {
     "data": {
      "text/plain": [
       "count    3.079007e+06\n",
       "mean     3.522090e+01\n",
       "std      1.577007e+02\n",
       "min      0.000000e+00\n",
       "25%      1.000000e+00\n",
       "50%      1.100000e+01\n",
       "75%      5.000000e+01\n",
       "max      7.336200e+04\n",
       "Name: n_citation, dtype: float64"
      ]
     },
     "execution_count": 67,
     "metadata": {},
     "output_type": "execute_result"
    }
   ],
   "source": [
    "df['n_citation'].describe()\n"
   ]
  },
  {
   "cell_type": "code",
   "execution_count": 68,
   "metadata": {},
   "outputs": [
    {
     "name": "stdout",
     "output_type": "stream",
     "text": [
      "Number of papers with 0 citations: 718250\n",
      "Max citations: 73362\n",
      "Mean citations: 35.220902713114974\n"
     ]
    }
   ],
   "source": [
    "print('Number of papers with 0 citations: {}'.format(len(df[df['n_citation'] == 0])))\n",
    "print('Max citations: {}'.format(df['n_citation'].max()))\n",
    "print('Mean citations: {}'.format(df['n_citation'].mean()))"
   ]
  },
  {
   "cell_type": "markdown",
   "metadata": {},
   "source": [
    "Now we delete all papers with 0 and 50 citations"
   ]
  },
  {
   "cell_type": "code",
   "execution_count": 69,
   "metadata": {},
   "outputs": [],
   "source": [
    "df = df[(df[['abstract']] != '').all(axis=1)]\n",
    "df = df[(df[['n_citation']] != 0).all(axis=1)]\n",
    "df = df[(df[['n_citation']] != 50).all(axis=1)]\n"
   ]
  },
  {
   "cell_type": "code",
   "execution_count": 70,
   "metadata": {},
   "outputs": [
    {
     "data": {
      "text/html": [
       "<div>\n",
       "<style scoped>\n",
       "    .dataframe tbody tr th:only-of-type {\n",
       "        vertical-align: middle;\n",
       "    }\n",
       "\n",
       "    .dataframe tbody tr th {\n",
       "        vertical-align: top;\n",
       "    }\n",
       "\n",
       "    .dataframe thead th {\n",
       "        text-align: right;\n",
       "    }\n",
       "</style>\n",
       "<table border=\"1\" class=\"dataframe\">\n",
       "  <thead>\n",
       "    <tr style=\"text-align: right;\">\n",
       "      <th></th>\n",
       "      <th>abstract</th>\n",
       "      <th>authors</th>\n",
       "      <th>n_citation</th>\n",
       "      <th>references</th>\n",
       "      <th>title</th>\n",
       "      <th>venue</th>\n",
       "      <th>year</th>\n",
       "      <th>id</th>\n",
       "    </tr>\n",
       "  </thead>\n",
       "  <tbody>\n",
       "    <tr>\n",
       "      <th>55</th>\n",
       "      <td>Structured regression has been successfully us...</td>\n",
       "      <td>[Fang Zhou, Mohamed F. Ghalwash, Zoran Obradovic]</td>\n",
       "      <td>1</td>\n",
       "      <td>[05747537-ec32-4428-bb6a-adc8613e17c3, 05dc4e2...</td>\n",
       "      <td>A fast structured regression for large networks</td>\n",
       "      <td></td>\n",
       "      <td>2016</td>\n",
       "      <td>0b6b0cc7-4397-480e-9ec6-5cac94c2aa11</td>\n",
       "    </tr>\n",
       "    <tr>\n",
       "      <th>162</th>\n",
       "      <td>The Post-PC revolution is bringing information...</td>\n",
       "      <td>[Steven J. Ross, Jason L. Hill, Michael Chen, ...</td>\n",
       "      <td>63</td>\n",
       "      <td>[2ee9a087-6188-4ebd-95b9-6561cba0584c, 3a16c8d...</td>\n",
       "      <td>A composable framework for secure multi-modal ...</td>\n",
       "      <td>Mobile Networks and Applications</td>\n",
       "      <td>2002</td>\n",
       "      <td>27c5ea64-86cb-4e69-9d13-c8ba2654515d</td>\n",
       "    </tr>\n",
       "    <tr>\n",
       "      <th>299</th>\n",
       "      <td>The problem of motion planning in three dimens...</td>\n",
       "      <td>[Susan Hert, Vladimir J. Lumelsky]</td>\n",
       "      <td>5</td>\n",
       "      <td>[040688b7-9070-4af4-a4ee-5d45175b58a4, 1bd5c32...</td>\n",
       "      <td>Motion planning in R 3 for multiple tethered r...</td>\n",
       "      <td>intelligent robots and systems</td>\n",
       "      <td>1997</td>\n",
       "      <td>4954b769-6ae1-44d5-94d3-92f0e9d33401</td>\n",
       "    </tr>\n",
       "    <tr>\n",
       "      <th>358</th>\n",
       "      <td>Many recently proposed graph-processing framew...</td>\n",
       "      <td>[Bryan Rainey, David F. Gleich]</td>\n",
       "      <td>1</td>\n",
       "      <td>[071ee610-d8d2-436d-a000-ec09fc4b1731, 0b0fc98...</td>\n",
       "      <td>Massive graph processing on nanocomputers</td>\n",
       "      <td></td>\n",
       "      <td>2016</td>\n",
       "      <td>5907e2ce-35ae-4ce3-970f-aedb0fe3d3bb</td>\n",
       "    </tr>\n",
       "    <tr>\n",
       "      <th>401</th>\n",
       "      <td>The haplotype resolution from xor-genotype dat...</td>\n",
       "      <td>[Paola Bonizzoni, Gianluca Della Vedova, Ricca...</td>\n",
       "      <td>7</td>\n",
       "      <td>[33271a83-8a83-4048-bad8-ba05cdd31da6, 56e357b...</td>\n",
       "      <td>Pure Parsimony Xor Haplotyping</td>\n",
       "      <td>international symposium on bioinformatics rese...</td>\n",
       "      <td>2009</td>\n",
       "      <td>686101d0-513f-4aa5-b959-d09e8aff04ab</td>\n",
       "    </tr>\n",
       "  </tbody>\n",
       "</table>\n",
       "</div>"
      ],
      "text/plain": [
       "                                              abstract  \\\n",
       "55   Structured regression has been successfully us...   \n",
       "162  The Post-PC revolution is bringing information...   \n",
       "299  The problem of motion planning in three dimens...   \n",
       "358  Many recently proposed graph-processing framew...   \n",
       "401  The haplotype resolution from xor-genotype dat...   \n",
       "\n",
       "                                               authors  n_citation  \\\n",
       "55   [Fang Zhou, Mohamed F. Ghalwash, Zoran Obradovic]           1   \n",
       "162  [Steven J. Ross, Jason L. Hill, Michael Chen, ...          63   \n",
       "299                 [Susan Hert, Vladimir J. Lumelsky]           5   \n",
       "358                    [Bryan Rainey, David F. Gleich]           1   \n",
       "401  [Paola Bonizzoni, Gianluca Della Vedova, Ricca...           7   \n",
       "\n",
       "                                            references  \\\n",
       "55   [05747537-ec32-4428-bb6a-adc8613e17c3, 05dc4e2...   \n",
       "162  [2ee9a087-6188-4ebd-95b9-6561cba0584c, 3a16c8d...   \n",
       "299  [040688b7-9070-4af4-a4ee-5d45175b58a4, 1bd5c32...   \n",
       "358  [071ee610-d8d2-436d-a000-ec09fc4b1731, 0b0fc98...   \n",
       "401  [33271a83-8a83-4048-bad8-ba05cdd31da6, 56e357b...   \n",
       "\n",
       "                                                 title  \\\n",
       "55     A fast structured regression for large networks   \n",
       "162  A composable framework for secure multi-modal ...   \n",
       "299  Motion planning in R 3 for multiple tethered r...   \n",
       "358          Massive graph processing on nanocomputers   \n",
       "401                     Pure Parsimony Xor Haplotyping   \n",
       "\n",
       "                                                 venue  year  \\\n",
       "55                                                      2016   \n",
       "162                   Mobile Networks and Applications  2002   \n",
       "299                     intelligent robots and systems  1997   \n",
       "358                                                     2016   \n",
       "401  international symposium on bioinformatics rese...  2009   \n",
       "\n",
       "                                       id  \n",
       "55   0b6b0cc7-4397-480e-9ec6-5cac94c2aa11  \n",
       "162  27c5ea64-86cb-4e69-9d13-c8ba2654515d  \n",
       "299  4954b769-6ae1-44d5-94d3-92f0e9d33401  \n",
       "358  5907e2ce-35ae-4ce3-970f-aedb0fe3d3bb  \n",
       "401  686101d0-513f-4aa5-b959-d09e8aff04ab  "
      ]
     },
     "execution_count": 70,
     "metadata": {},
     "output_type": "execute_result"
    }
   ],
   "source": [
    "df.head()"
   ]
  },
  {
   "cell_type": "code",
   "execution_count": 71,
   "metadata": {},
   "outputs": [
    {
     "name": "stdout",
     "output_type": "stream",
     "text": [
      "Number of papers: 1297860\n",
      "Mean citations: 46.46594624998074\n"
     ]
    },
    {
     "data": {
      "text/plain": [
       "count    1.297860e+06\n",
       "mean     4.646595e+01\n",
       "std      2.320536e+02\n",
       "min      1.000000e+00\n",
       "25%      3.000000e+00\n",
       "50%      1.000000e+01\n",
       "75%      3.800000e+01\n",
       "max      7.336200e+04\n",
       "Name: n_citation, dtype: float64"
      ]
     },
     "execution_count": 71,
     "metadata": {},
     "output_type": "execute_result"
    }
   ],
   "source": [
    "print('Number of papers: {}'.format(len(df)))\n",
    "print('Mean citations: {}'.format(df['n_citation'].mean()))\n",
    "df['n_citation'].describe()\n"
   ]
  },
  {
   "cell_type": "code",
   "execution_count": 73,
   "metadata": {},
   "outputs": [
    {
     "data": {
      "text/plain": [
       "<Axes: >"
      ]
     },
     "execution_count": 73,
     "metadata": {},
     "output_type": "execute_result"
    },
    {
     "data": {
      "image/png": "[encoded data removed]",
      "text/plain": [
       "<Figure size 640x480 with 1 Axes>"
      ]
     },
     "metadata": {},
     "output_type": "display_data"
    }
   ],
   "source": [
    "df['n_citation'].hist(bins=100, range=(0, 99))"
   ]
  },
  {
   "cell_type": "markdown",
   "metadata": {},
   "source": [
    "The histogram looks like it could follow a power-law, eventhough we see a tendency for slightly more citations after 50 citations, which could be something related to the many 50 citation"
   ]
  },
  {
   "cell_type": "markdown",
   "metadata": {},
   "source": [
    "Load graph"
   ]
  },
  {
   "cell_type": "code",
   "execution_count": 114,
   "metadata": {},
   "outputs": [],
   "source": [
    "def load_graph(df):\n",
    "    \"\"\"\n",
    "    Loads networkx DiGraph from dataframe.\n",
    "    \"\"\"\n",
    "    # Create an empty directed graph\n",
    "    G = nx.DiGraph()\n",
    "    \n",
    "    # Create a set of all the paper IDs\n",
    "    id_set = set(df['id'])\n",
    "    \n",
    "    # Iterate through the DataFrame and add nodes and edges to the graph\n",
    "    for _, row in tqdm(df.iterrows(), total=len(df)):\n",
    "        node_id = row.id\n",
    "        references = row.references\n",
    "\n",
    "        # Add the node to the graph\n",
    "        G.add_node(\n",
    "            node_id,\n",
    "            abstract=row.abstract,\n",
    "            authors=row.authors,\n",
    "            n_citation=row.n_citation,\n",
    "            title=row.title,\n",
    "            venue=row.venue,\n",
    "            year=row.year,\n",
    "        )\n",
    "        \n",
    "        # Add edges from the node to its references\n",
    "        for reference in references:\n",
    "            if reference in id_set:\n",
    "                G.add_edge(node_id, reference)\n",
    "\n",
    "    return G"
   ]
  },
  {
   "cell_type": "code",
   "execution_count": 91,
   "metadata": {},
   "outputs": [
    {
     "name": "stdout",
     "output_type": "stream",
     "text": [
      "True\n"
     ]
    }
   ],
   "source": [
    "if '0b6b0cc7-4397-480e-9ec6-5cac94c2aa11' in df['id'].values:\n",
    "    print('True')\n",
    "else:\n",
    "    print('False')\n"
   ]
  },
  {
   "cell_type": "code",
   "execution_count": 111,
   "metadata": {},
   "outputs": [
    {
     "data": {
      "text/plain": [
       "1297860"
      ]
     },
     "execution_count": 111,
     "metadata": {},
     "output_type": "execute_result"
    }
   ],
   "source": [
    "len(set(df['id'].values))\n"
   ]
  },
  {
   "cell_type": "code",
   "execution_count": 115,
   "metadata": {},
   "outputs": [
    {
     "name": "stderr",
     "output_type": "stream",
     "text": [
      "100%|██████████| 1297860/1297860 [03:23<00:00, 6370.39it/s]\n"
     ]
    },
    {
     "name": "stdout",
     "output_type": "stream",
     "text": [
      "Number of nodes:  1297860\n",
      "Number of edges:  10365410\n"
     ]
    }
   ],
   "source": [
    "G = load_graph(df)\n",
    "print(\"Number of nodes: \", G.number_of_nodes())\n",
    "print(\"Number of edges: \", G.number_of_edges())\n",
    "pickle.dump(G, open( \"base_graph.pkl\", \"wb\" ) )\n"
   ]
  },
  {
   "cell_type": "code",
   "execution_count": null,
   "metadata": {},
   "outputs": [],
   "source": [
    "## Here you open the pickle file to load the graph\n",
    "with open(\"base_graph.pkl\", 'rb') as f:\n",
    "    G = pickle.load(f)"
   ]
  }
 ],
 "metadata": {
  "kernelspec": {
   "display_name": "Python 3",
   "language": "python",
   "name": "python3"
  },
  "language_info": {
   "codemirror_mode": {
    "name": "ipython",
    "version": 3
   },
   "file_extension": ".py",
   "mimetype": "text/x-python",
   "name": "python",
   "nbconvert_exporter": "python",
   "pygments_lexer": "ipython3",
   "version": "3.10.11"
  }
 },
 "nbformat": 4,
 "nbformat_minor": 2
}
