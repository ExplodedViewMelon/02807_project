{
 "cells": [
  {
   "cell_type": "code",
   "execution_count": 2,
   "metadata": {},
   "outputs": [],
   "source": [
    "%%capture\n",
    "import numpy as np \n",
    "import pandas as pd \n",
    "import matplotlib.pyplot as plt\n",
    "import pickle \n",
    "import networkx as nx\n",
    "from dataloader import *\n",
    "from collections import deque, defaultdict\n",
    "from tqdm import tqdm"
   ]
  },
  {
   "cell_type": "code",
   "execution_count": 3,
   "metadata": {},
   "outputs": [],
   "source": [
    "with open(\"sub_graph.pkl\", 'rb') as f:\n",
    "    G = pickle.load(f)"
   ]
  },
  {
   "cell_type": "code",
   "execution_count": 13,
   "metadata": {},
   "outputs": [],
   "source": [
    "with open(\"all_clusters_with_modularity.pkl\", 'rb') as f:\n",
    "    ac = pickle.load(f)"
   ]
  },
  {
   "cell_type": "code",
   "execution_count": 14,
   "metadata": {},
   "outputs": [
    {
     "data": {
      "text/plain": [
       "[[[{'A', 'B', 'C', 'H'}, {'D', 'E', 'F', 'G'}], 0.5349999999999999],\n",
       " [[{'A', 'B', 'C'}, {'D', 'F'}, {'E'}, {'G'}, {'H'}], 0.23500000000000004],\n",
       " [[{'A', 'B', 'C', 'D', 'E', 'F', 'G', 'H'}], 0.13999999999999996],\n",
       " [[{'A'}, {'B'}, {'C'}, {'D'}, {'E'}, {'F'}, {'G'}, {'H'}], 0.0]]"
      ]
     },
     "execution_count": 14,
     "metadata": {},
     "output_type": "execute_result"
    }
   ],
   "source": [
    "ac"
   ]
  },
  {
   "cell_type": "markdown",
   "metadata": {},
   "source": [
    "### Example graph B"
   ]
  },
  {
   "cell_type": "code",
   "execution_count": 3,
   "metadata": {},
   "outputs": [
    {
     "data": {
      "image/png": "[encoded data removed]",
      "text/plain": [
       "<Figure size 640x480 with 1 Axes>"
      ]
     },
     "metadata": {},
     "output_type": "display_data"
    }
   ],
   "source": [
    "\n",
    "# Using example from the slides of the lecture\n",
    "G_example = nx.DiGraph()\n",
    "\n",
    "all_nodes = ['A','B','C','D','E','F','G','H']\n",
    "G_example.add_nodes_from(all_nodes)\n",
    "\n",
    "all_edges = [\n",
    "    ('E','D'),('E','F'),\n",
    "    ('F','G'),('D','G'),('D','B'),('B','A'),('B','C'),('A','H'),\n",
    "    ('D','F'),('A','C')\n",
    "]\n",
    "G_example.add_edges_from(all_edges)\n",
    "nx.draw(G_example, with_labels=True)\n"
   ]
  },
  {
   "cell_type": "markdown",
   "metadata": {},
   "source": [
    "### Step 1: Betweenness centrality"
   ]
  },
  {
   "cell_type": "code",
   "execution_count": 5,
   "metadata": {},
   "outputs": [],
   "source": [
    "## Optimized BFS\n",
    "def bfs_shortest_paths(G, root):\n",
    "    shortest_paths_dict = {root: [[root]]}\n",
    "    queue = deque([(root, [root])])\n",
    "\n",
    "    while queue:\n",
    "        s, path = queue.popleft()\n",
    "\n",
    "        for neighbor in G.neighbors(s):\n",
    "            new_path = path + [neighbor]\n",
    "            old_path = shortest_paths_dict.get(neighbor, [[None] * (len(new_path) + 1)])\n",
    "\n",
    "            if len(new_path) == len(old_path[0]):\n",
    "                shortest_paths_dict[neighbor].append(new_path)\n",
    "            elif len(new_path) < len(old_path[0]):\n",
    "                shortest_paths_dict[neighbor] = [new_path]\n",
    "                queue.append((neighbor, new_path))\n",
    "\n",
    "    return shortest_paths_dict\n",
    "\n",
    "#lol = bfs_shortest_paths(G_example, 'E')"
   ]
  },
  {
   "cell_type": "code",
   "execution_count": 6,
   "metadata": {},
   "outputs": [],
   "source": [
    "## Optimized edge betweenness centrality\n",
    "def edge_betweenness_centrality(G):\n",
    "    edge_betweenness = defaultdict(float)\n",
    "\n",
    "    for node in G.nodes():\n",
    "        shortest_paths_dict = bfs_shortest_paths(G, node)\n",
    "\n",
    "        for paths in shortest_paths_dict.values():\n",
    "            for path in paths:\n",
    "                for i in range(len(path) - 1):\n",
    "                    edge = (path[i], path[i + 1])\n",
    "                    edge_betweenness[edge] += 1.0\n",
    "\n",
    "    return edge_betweenness\n",
    "\n",
    "#edge_betweenness = edge_betweenness_centrality(G_example)\n",
    "#edge_betweenness"
   ]
  },
  {
   "cell_type": "code",
   "execution_count": 8,
   "metadata": {},
   "outputs": [],
   "source": [
    "def girvan_newman_directed(G):\n",
    "    G_copy = G.copy()\n",
    "    communities = list(nx.weakly_connected_components(G_copy))\n",
    "    results = {0: communities}\n",
    "    \n",
    "    step = 1\n",
    "    \n",
    "    while G_copy.number_of_edges() > 0:\n",
    "        edge_betweenness = edge_betweenness_centrality(G_copy)\n",
    "        max_betweenness = max(edge_betweenness.values())\n",
    "        highest_betweenness_edges = [edge for edge, value in edge_betweenness.items() if value == max_betweenness]\n",
    "        G_copy.remove_edges_from(highest_betweenness_edges)\n",
    "        components = list(nx.weakly_connected_components(G_copy))\n",
    "        results[step] = components\n",
    "        step += 1\n",
    "    \n",
    "    return results\n",
    "\n",
    "\n",
    "all_communities = girvan_newman_directed(G)\n",
    "\n",
    "#for step, communities in all_communities.items():\n",
    "#    print(f\"{step}: {communities}\")"
   ]
  },
  {
   "cell_type": "code",
   "execution_count": 9,
   "metadata": {},
   "outputs": [],
   "source": [
    "def modularity(G, clusters_list):\n",
    "    Q = 0\n",
    "    m = len(list(G.edges()))\n",
    "    for aCommunity in clusters_list:\n",
    "        for v in list(aCommunity):\n",
    "            for w in list(aCommunity):\n",
    "                if v != w:\n",
    "                    avw = 1 if (v,w) in list(G.edges()) or (w,v) in list(G.edges()) else 0               \n",
    "                    new_term = avw - (G.degree(v)*G.degree(w))/(2*m)\n",
    "                    Q += new_term\n",
    "    return Q/(2*m)"
   ]
  },
  {
   "cell_type": "code",
   "execution_count": 11,
   "metadata": {},
   "outputs": [],
   "source": [
    "def compute_modularity_for_all_communities(G, all_communities):\n",
    "    result = []\n",
    "    t = tqdm(total=len(list(all_communities.values())))\n",
    "    for aCommunityRepartition in list(all_communities.values()):\n",
    "        t.update()\n",
    "        aModularity = modularity(G, aCommunityRepartition)\n",
    "        result.append(\n",
    "            [aCommunityRepartition, aModularity]\n",
    "        )\n",
    "    t.close()\n",
    "    return result"
   ]
  },
  {
   "cell_type": "code",
   "execution_count": 12,
   "metadata": {},
   "outputs": [
    {
     "ename": "KeyboardInterrupt",
     "evalue": "",
     "output_type": "error",
     "traceback": [
      "\u001b[1;31m---------------------------------------------------------------------------\u001b[0m",
      "\u001b[1;31mKeyboardInterrupt\u001b[0m                         Traceback (most recent call last)",
      "\u001b[1;32mc:\\Users\\Naja-\\Documents\\GitHub\\02807_project\\clustering.ipynb Cell 11\u001b[0m line \u001b[0;36m1\n\u001b[1;32m----> <a href='vscode-notebook-cell:/c%3A/Users/Naja-/Documents/GitHub/02807_project/clustering.ipynb#X40sZmlsZQ%3D%3D?line=0'>1</a>\u001b[0m all_clusters_with_modularity \u001b[39m=\u001b[39m compute_modularity_for_all_communities(G, all_communities)\n\u001b[0;32m      <a href='vscode-notebook-cell:/c%3A/Users/Naja-/Documents/GitHub/02807_project/clustering.ipynb#X40sZmlsZQ%3D%3D?line=1'>2</a>\u001b[0m all_clusters_with_modularity\u001b[39m.\u001b[39msort(key\u001b[39m=\u001b[39m \u001b[39mlambda\u001b[39;00m x:x[\u001b[39m1\u001b[39m], reverse\u001b[39m=\u001b[39m\u001b[39mTrue\u001b[39;00m)\n\u001b[0;32m      <a href='vscode-notebook-cell:/c%3A/Users/Naja-/Documents/GitHub/02807_project/clustering.ipynb#X40sZmlsZQ%3D%3D?line=2'>3</a>\u001b[0m \u001b[39mprint\u001b[39m(\u001b[39m'\u001b[39m\u001b[39mBest:\u001b[39m\u001b[39m'\u001b[39m, all_clusters_with_modularity[\u001b[39m0\u001b[39m])\n",
      "\u001b[1;32mc:\\Users\\Naja-\\Documents\\GitHub\\02807_project\\clustering.ipynb Cell 11\u001b[0m line \u001b[0;36m4\n\u001b[0;32m      <a href='vscode-notebook-cell:/c%3A/Users/Naja-/Documents/GitHub/02807_project/clustering.ipynb#X40sZmlsZQ%3D%3D?line=1'>2</a>\u001b[0m result \u001b[39m=\u001b[39m []\n\u001b[0;32m      <a href='vscode-notebook-cell:/c%3A/Users/Naja-/Documents/GitHub/02807_project/clustering.ipynb#X40sZmlsZQ%3D%3D?line=2'>3</a>\u001b[0m \u001b[39mfor\u001b[39;00m aCommunityRepartition \u001b[39min\u001b[39;00m \u001b[39mlist\u001b[39m(all_communities\u001b[39m.\u001b[39mvalues()):\n\u001b[1;32m----> <a href='vscode-notebook-cell:/c%3A/Users/Naja-/Documents/GitHub/02807_project/clustering.ipynb#X40sZmlsZQ%3D%3D?line=3'>4</a>\u001b[0m     aModularity \u001b[39m=\u001b[39m modularity(G, aCommunityRepartition)\n\u001b[0;32m      <a href='vscode-notebook-cell:/c%3A/Users/Naja-/Documents/GitHub/02807_project/clustering.ipynb#X40sZmlsZQ%3D%3D?line=4'>5</a>\u001b[0m     result\u001b[39m.\u001b[39mappend(\n\u001b[0;32m      <a href='vscode-notebook-cell:/c%3A/Users/Naja-/Documents/GitHub/02807_project/clustering.ipynb#X40sZmlsZQ%3D%3D?line=5'>6</a>\u001b[0m         [aCommunityRepartition, aModularity]\n\u001b[0;32m      <a href='vscode-notebook-cell:/c%3A/Users/Naja-/Documents/GitHub/02807_project/clustering.ipynb#X40sZmlsZQ%3D%3D?line=6'>7</a>\u001b[0m     )\n\u001b[0;32m      <a href='vscode-notebook-cell:/c%3A/Users/Naja-/Documents/GitHub/02807_project/clustering.ipynb#X40sZmlsZQ%3D%3D?line=7'>8</a>\u001b[0m \u001b[39mreturn\u001b[39;00m result\n",
      "\u001b[1;32mc:\\Users\\Naja-\\Documents\\GitHub\\02807_project\\clustering.ipynb Cell 11\u001b[0m line \u001b[0;36m8\n\u001b[0;32m      <a href='vscode-notebook-cell:/c%3A/Users/Naja-/Documents/GitHub/02807_project/clustering.ipynb#X40sZmlsZQ%3D%3D?line=5'>6</a>\u001b[0m \u001b[39mfor\u001b[39;00m w \u001b[39min\u001b[39;00m \u001b[39mlist\u001b[39m(aCommunity):\n\u001b[0;32m      <a href='vscode-notebook-cell:/c%3A/Users/Naja-/Documents/GitHub/02807_project/clustering.ipynb#X40sZmlsZQ%3D%3D?line=6'>7</a>\u001b[0m     \u001b[39mif\u001b[39;00m v \u001b[39m!=\u001b[39m w:\n\u001b[1;32m----> <a href='vscode-notebook-cell:/c%3A/Users/Naja-/Documents/GitHub/02807_project/clustering.ipynb#X40sZmlsZQ%3D%3D?line=7'>8</a>\u001b[0m         avw \u001b[39m=\u001b[39m \u001b[39m1\u001b[39m \u001b[39mif\u001b[39;00m (v,w) \u001b[39min\u001b[39;00m \u001b[39mlist\u001b[39;49m(G\u001b[39m.\u001b[39;49medges()) \u001b[39mor\u001b[39;00m (w,v) \u001b[39min\u001b[39;00m \u001b[39mlist\u001b[39m(G\u001b[39m.\u001b[39medges()) \u001b[39melse\u001b[39;00m \u001b[39m0\u001b[39m               \n\u001b[0;32m      <a href='vscode-notebook-cell:/c%3A/Users/Naja-/Documents/GitHub/02807_project/clustering.ipynb#X40sZmlsZQ%3D%3D?line=8'>9</a>\u001b[0m         new_term \u001b[39m=\u001b[39m avw \u001b[39m-\u001b[39m (G\u001b[39m.\u001b[39mdegree(v)\u001b[39m*\u001b[39mG\u001b[39m.\u001b[39mdegree(w))\u001b[39m/\u001b[39m(\u001b[39m2\u001b[39m\u001b[39m*\u001b[39mm)\n\u001b[0;32m     <a href='vscode-notebook-cell:/c%3A/Users/Naja-/Documents/GitHub/02807_project/clustering.ipynb#X40sZmlsZQ%3D%3D?line=9'>10</a>\u001b[0m         Q \u001b[39m+\u001b[39m\u001b[39m=\u001b[39m new_term\n",
      "File \u001b[1;32m~\\AppData\\Local\\Packages\\PythonSoftwareFoundation.Python.3.10_qbz5n2kfra8p0\\LocalCache\\local-packages\\Python310\\site-packages\\networkx\\classes\\reportviews.py:1072\u001b[0m, in \u001b[0;36mOutEdgeView.__len__\u001b[1;34m(self)\u001b[0m\n\u001b[0;32m   1071\u001b[0m \u001b[39mdef\u001b[39;00m \u001b[39m__len__\u001b[39m(\u001b[39mself\u001b[39m):\n\u001b[1;32m-> 1072\u001b[0m     \u001b[39mreturn\u001b[39;00m \u001b[39msum\u001b[39;49m(\u001b[39mlen\u001b[39;49m(nbrs) \u001b[39mfor\u001b[39;49;00m n, nbrs \u001b[39min\u001b[39;49;00m \u001b[39mself\u001b[39;49m\u001b[39m.\u001b[39;49m_nodes_nbrs())\n",
      "File \u001b[1;32m~\\AppData\\Local\\Packages\\PythonSoftwareFoundation.Python.3.10_qbz5n2kfra8p0\\LocalCache\\local-packages\\Python310\\site-packages\\networkx\\classes\\reportviews.py:1072\u001b[0m, in \u001b[0;36m<genexpr>\u001b[1;34m(.0)\u001b[0m\n\u001b[0;32m   1071\u001b[0m \u001b[39mdef\u001b[39;00m \u001b[39m__len__\u001b[39m(\u001b[39mself\u001b[39m):\n\u001b[1;32m-> 1072\u001b[0m     \u001b[39mreturn\u001b[39;00m \u001b[39msum\u001b[39m(\u001b[39mlen\u001b[39;49m(nbrs) \u001b[39mfor\u001b[39;00m n, nbrs \u001b[39min\u001b[39;00m \u001b[39mself\u001b[39m\u001b[39m.\u001b[39m_nodes_nbrs())\n",
      "\u001b[1;31mKeyboardInterrupt\u001b[0m: "
     ]
    }
   ],
   "source": [
    "all_clusters_with_modularity = compute_modularity_for_all_communities(G, all_communities)\n",
    "all_clusters_with_modularity.sort(key= lambda x:x[1], reverse=True)\n",
    "all_clusters_with_modularity[0]"
   ]
  },
  {
   "cell_type": "markdown",
   "metadata": {},
   "source": [
    "# Less optimized stuff"
   ]
  },
  {
   "cell_type": "code",
   "execution_count": 205,
   "metadata": {},
   "outputs": [],
   "source": [
    "def bfs_shortest_paths(G, root):\n",
    "\n",
    "    shortest_paths_dict = {root: [[root]]}\n",
    "    queue = [(root, [root])]\n",
    "\n",
    "    while queue:\n",
    "        s, path = queue.pop(0)\n",
    "\n",
    "        for neighbor in G.neighbors(s):\n",
    "            \n",
    "            if neighbor not in shortest_paths_dict:\n",
    "                new_path = path + [neighbor]\n",
    "                shortest_paths_dict[neighbor] = [new_path]\n",
    "                queue.append((neighbor, new_path))\n",
    "                \n",
    "            elif len(path) + 1 == len(shortest_paths_dict[neighbor][0]):\n",
    "                shortest_paths_dict[neighbor].append(path + [neighbor])\n",
    "\n",
    "    return shortest_paths_dict\n",
    "\n",
    "#lol = bfs_shortest_paths(G_example, 'E')\n",
    "#lol\n"
   ]
  },
  {
   "cell_type": "code",
   "execution_count": 207,
   "metadata": {},
   "outputs": [
    {
     "data": {
      "text/plain": [
       "{('A', 'H'): 4.0,\n",
       " ('A', 'C'): 1.0,\n",
       " ('B', 'A'): 6.0,\n",
       " ('B', 'C'): 3.0,\n",
       " ('D', 'G'): 2.0,\n",
       " ('D', 'B'): 8.0,\n",
       " ('D', 'F'): 1.0,\n",
       " ('E', 'D'): 6.0,\n",
       " ('E', 'F'): 2.0,\n",
       " ('F', 'G'): 2.0}"
      ]
     },
     "execution_count": 207,
     "metadata": {},
     "output_type": "execute_result"
    }
   ],
   "source": [
    "def edge_betweenness_centrality(G):\n",
    "    \n",
    "    edge_betweenness = {edge: 0.0 for edge in G.edges()}\n",
    "    \n",
    "    nodes = list(G.nodes())\n",
    "    \n",
    "    for node in nodes:\n",
    "        shortest_paths_dict = bfs_shortest_paths(G, node)\n",
    "        \n",
    "        for source in shortest_paths_dict:\n",
    "            for target_paths in shortest_paths_dict[source]:\n",
    "                for i in range(len(target_paths) - 1):\n",
    "                    edge = (target_paths[i], target_paths[i + 1])\n",
    "                    edge_betweenness[edge] += 1.0\n",
    "    \n",
    "    return edge_betweenness\n",
    "\n",
    "edge_betweenness = edge_betweenness_centrality(G_example)\n",
    "edge_betweenness"
   ]
  }
 ],
 "metadata": {
  "kernelspec": {
   "display_name": "Python 3",
   "language": "python",
   "name": "python3"
  },
  "language_info": {
   "codemirror_mode": {
    "name": "ipython",
    "version": 3
   },
   "file_extension": ".py",
   "mimetype": "text/x-python",
   "name": "python",
   "nbconvert_exporter": "python",
   "pygments_lexer": "ipython3",
   "version": "3.10.11"
  }
 },
 "nbformat": 4,
 "nbformat_minor": 2
}
